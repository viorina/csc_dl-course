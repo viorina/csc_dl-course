{
 "cells": [
  {
   "cell_type": "markdown",
   "metadata": {
    "colab_type": "text",
    "id": "gJxnCSY7gpYS"
   },
   "source": [
    "# Задание 3.2 - сверточные нейронные сети (CNNs) в PyTorch\n",
    "\n",
    "Это упражнение мы буде выполнять в Google Colab - https://colab.research.google.com/  \n",
    "Google Colab позволяет запускать код в notebook в облаке Google, где можно воспользоваться бесплатным GPU!  \n",
    "\n",
    "Авторы курса благодарят компанию Google и надеятся, что праздник не закончится.\n",
    "\n",
    "Туториал по настройке Google Colab:  \n",
    "https://medium.com/deep-learning-turkey/google-colab-free-gpu-tutorial-e113627b9f5d  \n",
    "(Keras инсталлировать не нужно, наш notebook сам установит PyTorch)\n"
   ]
  },
  {
   "cell_type": "code",
   "execution_count": 1,
   "metadata": {
    "colab": {
     "base_uri": "https://localhost:8080/",
     "height": 527
    },
    "colab_type": "code",
    "id": "FcXBeP1O7cnY",
    "outputId": "ed042abb-812e-4f0a-8f3d-1de019b6d6b2"
   },
   "outputs": [
    {
     "name": "stdout",
     "output_type": "stream",
     "text": [
      "Requirement already satisfied: torch in /usr/local/lib/python3.6/dist-packages (1.0.1.post2)\n",
      "Requirement already satisfied: torchvision in /usr/local/lib/python3.6/dist-packages (0.2.2.post3)\n",
      "Requirement already satisfied: pillow>=4.1.1 in /usr/local/lib/python3.6/dist-packages (from torchvision) (4.1.1)\n",
      "Requirement already satisfied: six in /usr/local/lib/python3.6/dist-packages (from torchvision) (1.11.0)\n",
      "Requirement already satisfied: numpy in /usr/local/lib/python3.6/dist-packages (from torchvision) (1.14.6)\n",
      "Requirement already satisfied: olefile in /usr/local/lib/python3.6/dist-packages (from pillow>=4.1.1->torchvision) (0.46)\n",
      "--2019-04-12 14:36:32--  http://ufldl.stanford.edu/housenumbers/train_32x32.mat\n",
      "Resolving ufldl.stanford.edu (ufldl.stanford.edu)... 171.64.68.10\n",
      "Connecting to ufldl.stanford.edu (ufldl.stanford.edu)|171.64.68.10|:80... connected.\n",
      "HTTP request sent, awaiting response... 200 OK\n",
      "Length: 182040794 (174M) [text/plain]\n",
      "Saving to: ‘train_32x32.mat’\n",
      "\n",
      "train_32x32.mat     100%[===================>] 173.61M  34.7MB/s    in 6.9s    \n",
      "\n",
      "2019-04-12 14:36:39 (25.3 MB/s) - ‘train_32x32.mat’ saved [182040794/182040794]\n",
      "\n",
      "--2019-04-12 14:36:39--  http://ufldl.stanford.edu/housenumbers/test_32x32.mat\n",
      "Reusing existing connection to ufldl.stanford.edu:80.\n",
      "HTTP request sent, awaiting response... 200 OK\n",
      "Length: 64275384 (61M) [text/plain]\n",
      "Saving to: ‘test_32x32.mat’\n",
      "\n",
      "test_32x32.mat      100%[===================>]  61.30M  9.15MB/s    in 6.6s    \n",
      "\n",
      "2019-04-12 14:36:45 (9.23 MB/s) - ‘test_32x32.mat’ saved [64275384/64275384]\n",
      "\n",
      "FINISHED --2019-04-12 14:36:45--\n",
      "Total wall clock time: 14s\n",
      "Downloaded: 2 files, 235M in 14s (17.4 MB/s)\n"
     ]
    }
   ],
   "source": [
    "# Intstall PyTorch and download data\n",
    "!pip3 install torch torchvision\n",
    "\n",
    "!wget -c http://ufldl.stanford.edu/housenumbers/train_32x32.mat http://ufldl.stanford.edu/housenumbers/test_32x32.mat"
   ]
  },
  {
   "cell_type": "code",
   "execution_count": 0,
   "metadata": {
    "colab": {},
    "colab_type": "code",
    "id": "-afwWw-Q85vD"
   },
   "outputs": [],
   "source": [
    "from collections import namedtuple\n",
    "\n",
    "import matplotlib.pyplot as plt\n",
    "import numpy as np\n",
    "import PIL\n",
    "import torch\n",
    "import torch.nn as nn\n",
    "import torch.optim as optim\n",
    "import torchvision.datasets as dset\n",
    "from torch.utils.data.sampler import SubsetRandomSampler\n",
    "\n",
    "from torchvision import transforms"
   ]
  },
  {
   "cell_type": "code",
   "execution_count": 0,
   "metadata": {
    "colab": {},
    "colab_type": "code",
    "id": "NNU-OD9O9ltP"
   },
   "outputs": [],
   "source": [
    "device = torch.device(\"cuda:0\") # Let's make sure GPU is available!"
   ]
  },
  {
   "cell_type": "markdown",
   "metadata": {
    "colab_type": "text",
    "id": "b9x_EnpTgpY2"
   },
   "source": [
    "# Загружаем данные"
   ]
  },
  {
   "cell_type": "code",
   "execution_count": 0,
   "metadata": {
    "colab": {},
    "colab_type": "code",
    "id": "YAvkoRx-9FsP"
   },
   "outputs": [],
   "source": [
    "# First, lets load the dataset\n",
    "data_train = dset.SVHN('./', \n",
    "                       transform=transforms.Compose([\n",
    "                           transforms.ToTensor(),\n",
    "                           transforms.Normalize(mean=[0.43,0.44,0.47],\n",
    "                                               std=[0.20,0.20,0.20])                           \n",
    "                       ])\n",
    "                      )\n",
    "data_test = dset.SVHN('./', split='test', transform=transforms.Compose([\n",
    "                           transforms.ToTensor(),\n",
    "                           transforms.Normalize(mean=[0.43,0.44,0.47],\n",
    "                                               std=[0.20,0.20,0.20])                           \n",
    "                       ]))"
   ]
  },
  {
   "cell_type": "markdown",
   "metadata": {
    "colab_type": "text",
    "id": "OYJi2nUPgpZD"
   },
   "source": [
    "Разделяем данные на training и validation.\n",
    "\n",
    "На всякий случай для подробностей - https://pytorch.org/tutorials/beginner/data_loading_tutorial.html"
   ]
  },
  {
   "cell_type": "code",
   "execution_count": 0,
   "metadata": {
    "colab": {},
    "colab_type": "code",
    "id": "YRnr8CPg7Hli"
   },
   "outputs": [],
   "source": [
    "batch_size = 64\n",
    "\n",
    "data_size = data_train.data.shape[0]\n",
    "validation_split = .2\n",
    "split = int(np.floor(validation_split * data_size))\n",
    "indices = list(range(data_size))\n",
    "np.random.shuffle(indices)\n",
    "\n",
    "train_indices, val_indices = indices[split:], indices[:split]\n",
    "\n",
    "train_sampler = SubsetRandomSampler(train_indices)\n",
    "val_sampler = SubsetRandomSampler(val_indices)\n",
    "\n",
    "train_loader = torch.utils.data.DataLoader(data_train, batch_size=batch_size, \n",
    "                                           sampler=train_sampler)\n",
    "val_loader = torch.utils.data.DataLoader(data_train, batch_size=batch_size,\n",
    "                                         sampler=val_sampler)"
   ]
  },
  {
   "cell_type": "code",
   "execution_count": 0,
   "metadata": {
    "colab": {},
    "colab_type": "code",
    "id": "LyYvt-T67PBG"
   },
   "outputs": [],
   "source": [
    "# We'll use a special helper module to shape it into a flat tensor\n",
    "class Flattener(nn.Module):\n",
    "    def forward(self, x):\n",
    "        batch_size, *_ = x.shape\n",
    "        return x.view(batch_size, -1)"
   ]
  },
  {
   "cell_type": "markdown",
   "metadata": {
    "colab_type": "text",
    "id": "HSiTbvkggpZa"
   },
   "source": [
    "Создадим простейшую сеть с новыми слоями:  \n",
    "Convolutional - `nn.Conv2d`  \n",
    "MaxPool - `nn.MaxPool2d`"
   ]
  },
  {
   "cell_type": "code",
   "execution_count": 0,
   "metadata": {
    "colab": {},
    "colab_type": "code",
    "id": "w9SFVGZP7SQd"
   },
   "outputs": [],
   "source": [
    "nn_model = nn.Sequential(\n",
    "            nn.Conv2d(3, 64, 3, padding=1),\n",
    "            nn.ReLU(inplace=True),\n",
    "            nn.MaxPool2d(4),\n",
    "            nn.Conv2d(64, 64, 3, padding=1),\n",
    "            nn.ReLU(inplace=True),\n",
    "            nn.MaxPool2d(4),    \n",
    "            Flattener(),\n",
    "            nn.Linear(64*2*2, 10),\n",
    "          )\n",
    "\n",
    "nn_model.type(torch.cuda.FloatTensor)\n",
    "nn_model.to(device)\n",
    "\n",
    "loss = nn.CrossEntropyLoss().type(torch.cuda.FloatTensor)\n",
    "optimizer = optim.SGD(nn_model.parameters(), lr=1e-1, weight_decay=1e-4)"
   ]
  },
  {
   "cell_type": "markdown",
   "metadata": {
    "colab_type": "text",
    "id": "_l2vsQFBgpZo"
   },
   "source": [
    "Восстановите функцию `compute_accuracy` из прошлого задания.  \n",
    "Единственное отличие в новом - она должна передать данные на GPU прежде чем прогонять через модель. Сделайте это так же, как это делает функция `train_model`"
   ]
  },
  {
   "cell_type": "code",
   "execution_count": 15,
   "metadata": {
    "colab": {
     "base_uri": "https://localhost:8080/",
     "height": 102
    },
    "colab_type": "code",
    "id": "2ek3KVQK7hJ6",
    "outputId": "e3a604ee-92f9-4bb7-f8c8-ceb103ba9eaa"
   },
   "outputs": [
    {
     "name": "stdout",
     "output_type": "stream",
     "text": [
      "Average loss: 2.391745, Train accuracy: 0.083063, Val accuracy: 0.085250\n",
      "Average loss: 2.391762, Train accuracy: 0.083063, Val accuracy: 0.085250\n",
      "Average loss: 2.391762, Train accuracy: 0.083063, Val accuracy: 0.085250\n",
      "Average loss: 2.391761, Train accuracy: 0.083063, Val accuracy: 0.085250\n",
      "Average loss: 2.391762, Train accuracy: 0.083063, Val accuracy: 0.085250\n"
     ]
    }
   ],
   "source": [
    "def train_model(model, train_loader, val_loader, loss, optimizer, num_epochs):    \n",
    "    loss_history = []\n",
    "    train_history = []\n",
    "    val_history = []\n",
    "    for epoch in range(num_epochs):\n",
    "        model.train() # Enter train mode\n",
    "        \n",
    "        loss_accum = 0\n",
    "        correct_samples = 0\n",
    "        total_samples = 0\n",
    "        for i_step, (x, y) in enumerate(train_loader):\n",
    "          \n",
    "            x_gpu = x.to(device)\n",
    "            y_gpu = y.to(device)\n",
    "            prediction = model(x_gpu)    \n",
    "            loss_value = loss(prediction, y_gpu)\n",
    "            optimizer.zero_grad()\n",
    "            loss_value.backward()\n",
    "            optimizer.step()\n",
    "            \n",
    "            _, indices = torch.max(prediction, 1)\n",
    "            correct_samples += torch.sum(indices == y_gpu)\n",
    "            total_samples += y.shape[0]\n",
    "            \n",
    "            loss_accum += loss_value\n",
    "\n",
    "        ave_loss = loss_accum / i_step\n",
    "        train_accuracy = float(correct_samples) / total_samples\n",
    "        val_accuracy = compute_accuracy(model, val_loader)\n",
    "        \n",
    "        loss_history.append(float(ave_loss))\n",
    "        train_history.append(train_accuracy)\n",
    "        val_history.append(val_accuracy)\n",
    "        \n",
    "        print(\"Average loss: %f, Train accuracy: %f, Val accuracy: %f\" % (ave_loss, train_accuracy, val_accuracy))\n",
    "        \n",
    "    return loss_history, train_history, val_history\n",
    "        \n",
    "def compute_accuracy(model, loader):\n",
    "    \"\"\"\n",
    "    Computes accuracy on the dataset wrapped in a loader\n",
    "    \n",
    "    Returns: accuracy as a float value between 0 and 1\n",
    "    \"\"\"\n",
    "    model.eval() # Evaluation mode\n",
    "    # TODO: Copy implementation from previous assignment\n",
    "    # Don't forget to move the data to device before running it through the model!\n",
    "    \n",
    "    correct_samples = 0\n",
    "    total_samples = 0\n",
    "\n",
    "    for x, y in loader:\n",
    "        x_gpu = x.to(device)\n",
    "        y_gpu = y.to(device)\n",
    "\n",
    "        prediction = model(x_gpu)\n",
    "\n",
    "        _, indices = torch.max(prediction, 1)\n",
    "        correct_samples += torch.sum(indices == y_gpu)\n",
    "        total_samples += y_gpu.shape[0]\n",
    "    \n",
    "    return float(correct_samples) / total_samples\n",
    "\n",
    "loss_history, train_history, val_history = train_model(nn_model, train_loader, val_loader, loss, optimizer, 5)"
   ]
  },
  {
   "cell_type": "markdown",
   "metadata": {
    "colab_type": "text",
    "id": "6a-3a1ZFGEw_"
   },
   "source": [
    "# Аугментация данных (Data augmentation)\n",
    "\n",
    "В работе с изображениями одним из особенно важных методов является аугментация данных - то есть, генерация дополнительных данных для тренировки на основе изначальных.   \n",
    "Таким образом, мы получаем возможность \"увеличить\" набор данных для тренировки, что ведет к лучшей работе сети.\n",
    "Важно, чтобы аугментированные данные были похожи на те, которые могут встретиться в реальной жизни, иначе польза от аугментаций уменьшается и может ухудшить работу сети.\n",
    "\n",
    "С PyTorch идут несколько таких алгоритмов, называемых `transforms`. Более подробно про них можно прочитать тут -\n",
    "https://pytorch.org/tutorials/beginner/data_loading_tutorial.html#transforms\n",
    "\n",
    "Ниже мы используем следующие алгоритмы генерации:\n",
    "- ColorJitter - случайное изменение цвета\n",
    "- RandomHorizontalFlip - горизонтальное отражение с вероятностью 50%\n",
    "- RandomVerticalFlip - вертикальное отражение с вероятностью 50%\n",
    "- RandomRotation - случайный поворот"
   ]
  },
  {
   "cell_type": "code",
   "execution_count": 0,
   "metadata": {
    "colab": {},
    "colab_type": "code",
    "id": "jCWMUWmr7t5g"
   },
   "outputs": [],
   "source": [
    "tfs = transforms.Compose([\n",
    "    transforms.ColorJitter(hue=.50, saturation=.50),\n",
    "    transforms.RandomHorizontalFlip(),\n",
    "    transforms.RandomVerticalFlip(),\n",
    "    transforms.RandomRotation(50, resample=PIL.Image.BILINEAR),\n",
    "    transforms.ToTensor(),\n",
    "    transforms.Normalize(mean=[0.43,0.44,0.47],\n",
    "                       std=[0.20,0.20,0.20])                           \n",
    "])\n",
    "\n",
    "# Create augmented train dataset\n",
    "data_aug_train = dset.SVHN('./', \n",
    "                       transform=tfs\n",
    "                      )\n",
    "\n",
    "train_aug_loader = torch.utils.data.DataLoader(data_aug_train, batch_size=batch_size, \n",
    "                                           sampler=train_sampler)"
   ]
  },
  {
   "cell_type": "markdown",
   "metadata": {
    "colab_type": "text",
    "id": "bH4xB-AHgpaP"
   },
   "source": [
    "Визуализируем результаты агментации (вообще, смотреть на сгенерированные данные всегда очень полезно)."
   ]
  },
  {
   "cell_type": "code",
   "execution_count": 0,
   "metadata": {
    "colab": {
     "base_uri": "https://localhost:8080/",
     "height": 212
    },
    "colab_type": "code",
    "id": "YlJJEro1KZ45",
    "outputId": "476eefc3-fff9-441c-e7a5-830b63c2626f"
   },
   "outputs": [
    {
     "data": {
      "image/png": "[encoded data removed]",
      "text/plain": [
       "<Figure size 2160x216 with 10 Axes>"
      ]
     },
     "metadata": {
      "tags": []
     },
     "output_type": "display_data"
    }
   ],
   "source": [
    "# TODO: Visualize some augmented images!\n",
    "# hint: you can create new datasets and loaders to accomplish this\n",
    "\n",
    "# Based on the visualizations, should we keep all the augmentations?\n",
    "\n",
    "tfs = transforms.Compose([\n",
    "    transforms.ColorJitter(hue=.20, saturation=.20),\n",
    "    transforms.RandomHorizontalFlip(),\n",
    "    transforms.RandomVerticalFlip(),\n",
    "    transforms.RandomRotation(10, resample=PIL.Image.BILINEAR),\n",
    "])\n",
    "\n",
    "data_aug_vis = dset.SVHN('./', \n",
    "                       transform=tfs\n",
    "                      )\n",
    "\n",
    "plt.figure(figsize=(30, 3))\n",
    "\n",
    "for i, (x, y) in enumerate(data_aug_vis):\n",
    "    if i == 10:\n",
    "        break\n",
    "    plt.subplot(1, 10, i+1)\n",
    "    plt.grid(False)\n",
    "    plt.imshow(x)\n",
    "    plt.axis('off')"
   ]
  },
  {
   "cell_type": "markdown",
   "metadata": {
    "colab_type": "text",
    "id": "o2LrmsYHoguB"
   },
   "source": [
    "Все ли агментации одинаково полезны на этом наборе данных? Могут ли быть среди них те, которые собьют модель с толку?\n",
    "\n",
    "Выберите из них только корректные"
   ]
  },
  {
   "cell_type": "code",
   "execution_count": 0,
   "metadata": {
    "colab": {},
    "colab_type": "code",
    "id": "evro9ksXGs9u"
   },
   "outputs": [],
   "source": [
    "# TODO: \n",
    "tfs = transforms.Compose([\n",
    "    # TODO: Add good augmentations\n",
    "    transforms.ColorJitter(hue=.20, saturation=.20),\n",
    "    transforms.RandomRotation(10, resample=PIL.Image.BILINEAR),\n",
    "    transforms.ToTensor(),\n",
    "    transforms.Normalize(mean=[0.43,0.44,0.47],\n",
    "                       std=[0.20,0.20,0.20])                           \n",
    "])\n",
    "\n",
    "# TODO create new instances of loaders with the augmentations you chose\n",
    "data_aug_vis = dset.SVHN('./', \n",
    "                       transform=tfs\n",
    "                      )\n",
    "\n",
    "train_aug_loader = torch.utils.data.DataLoader(data_aug_train, batch_size=batch_size, \n",
    "                                           sampler=train_sampler)"
   ]
  },
  {
   "cell_type": "code",
   "execution_count": 0,
   "metadata": {
    "colab": {
     "base_uri": "https://localhost:8080/",
     "height": 102
    },
    "colab_type": "code",
    "id": "PeO6Zw0DHqPR",
    "outputId": "27702c61-09a0-4035-fdfe-5c0defa0d4f6"
   },
   "outputs": [
    {
     "name": "stdout",
     "output_type": "stream",
     "text": [
      "Average loss: 2.023548, Train accuracy: 0.284271, Val accuracy: 0.462289\n",
      "Average loss: 1.745327, Train accuracy: 0.366635, Val accuracy: 0.460719\n",
      "Average loss: 1.664807, Train accuracy: 0.397195, Val accuracy: 0.471572\n",
      "Average loss: 1.622998, Train accuracy: 0.417227, Val accuracy: 0.467135\n",
      "Average loss: 1.586561, Train accuracy: 0.432533, Val accuracy: 0.493345\n"
     ]
    }
   ],
   "source": [
    "# Finally, let's train with augmentations!\n",
    "\n",
    "# Note we shouldn't use augmentations on validation\n",
    "\n",
    "loss_history, train_history, val_history = train_model(nn_model, train_aug_loader, val_loader, loss, optimizer, 5)"
   ]
  },
  {
   "cell_type": "markdown",
   "metadata": {
    "colab_type": "text",
    "id": "r0bcioK6JBDK"
   },
   "source": [
    "# LeNet\n",
    "Попробуем имплементировать классическую архитектуру сверточной нейронной сети, предложенную Яном ЛеКуном в 1998 году. В свое время она достигла впечатляющих результатов на MNIST, посмотрим как она справится с SVHN?\n",
    "Она описана в статье [\"Gradient Based Learning Applied to Document Recognition\"](http://yann.lecun.com/exdb/publis/pdf/lecun-01a.pdf), попробуйте прочитать ключевые части и имплементировать предложенную архитетуру на PyTorch.\n",
    "\n",
    "Если в статье не очень понятно, можно просто погуглить LeNet и разобраться в деталях :)"
   ]
  },
  {
   "cell_type": "code",
   "execution_count": 0,
   "metadata": {
    "colab": {},
    "colab_type": "code",
    "id": "ieEzZUglJAUB"
   },
   "outputs": [],
   "source": [
    "# TODO: Implement LeNet-like architecture for SVHN task\n",
    "lenet_model = nn.Sequential(\n",
    "            nn.Conv2d(3, 6, 5),\n",
    "            nn.ReLU(inplace=True),\n",
    "            nn.MaxPool2d(2, stride=2),\n",
    "            nn.Conv2d(6, 16, 5),\n",
    "            nn.ReLU(inplace=True),\n",
    "            nn.MaxPool2d(2, stride=2),   \n",
    "            nn.Conv2d(16, 120, 5),\n",
    "            nn.ReLU(inplace=True),\n",
    "            Flattener(),\n",
    "            nn.Linear(120, 84),\n",
    "            nn.ReLU(inplace=True),\n",
    "            nn.Linear(84, 10)\n",
    "          )\n",
    "\n",
    "lenet_model.type(torch.cuda.FloatTensor)\n",
    "lenet_model.to(device)\n",
    "\n",
    "loss = nn.CrossEntropyLoss().type(torch.cuda.FloatTensor)\n",
    "optimizer = optim.SGD(lenet_model.parameters(), lr=1e-1, weight_decay=1e-4)"
   ]
  },
  {
   "cell_type": "code",
   "execution_count": 0,
   "metadata": {
    "colab": {
     "base_uri": "https://localhost:8080/",
     "height": 241
    },
    "colab_type": "code",
    "id": "WMmaPfdeKk9H",
    "outputId": "e8ef6f4e-d80e-40f6-97d6-c6913d839f1a"
   },
   "outputs": [
    {
     "name": "stderr",
     "output_type": "stream",
     "text": [
      "/usr/local/lib/python3.6/dist-packages/torch/nn/modules/container.py:92: UserWarning: Implicit dimension choice for softmax has been deprecated. Change the call to include dim=X as an argument.\n",
      "  input = module(input)\n"
     ]
    },
    {
     "name": "stdout",
     "output_type": "stream",
     "text": [
      "Average loss: 2.274688, Train accuracy: 0.183326, Val accuracy: 0.189816\n",
      "Average loss: 2.249258, Train accuracy: 0.197062, Val accuracy: 0.225104\n",
      "Average loss: 2.208544, Train accuracy: 0.240231, Val accuracy: 0.250495\n",
      "Average loss: 2.173952, Train accuracy: 0.276320, Val accuracy: 0.260392\n",
      "Average loss: 2.148975, Train accuracy: 0.306880, Val accuracy: 0.328715\n",
      "Average loss: 2.126587, Train accuracy: 0.330580, Val accuracy: 0.362160\n",
      "Average loss: 2.103383, Train accuracy: 0.355578, Val accuracy: 0.411371\n",
      "Average loss: 2.067727, Train accuracy: 0.392349, Val accuracy: 0.426524\n",
      "Average loss: 2.054791, Train accuracy: 0.404293, Val accuracy: 0.429732\n",
      "Average loss: 2.046263, Train accuracy: 0.412876, Val accuracy: 0.429459\n"
     ]
    }
   ],
   "source": [
    "# Let's train it!\n",
    "loss_history, train_history, val_history = train_model(lenet_model, train_aug_loader, val_loader, loss, optimizer, 10)"
   ]
  },
  {
   "cell_type": "markdown",
   "metadata": {
    "colab_type": "text",
    "id": "u_O9qiYySvuj"
   },
   "source": [
    "# Подбор гиперпараметров"
   ]
  },
  {
   "cell_type": "code",
   "execution_count": 0,
   "metadata": {
    "colab": {},
    "colab_type": "code",
    "id": "kvgwyWl-xFvp"
   },
   "outputs": [],
   "source": [
    "def train_model(model, train_loader, val_loader, loss, optimizer, num_epochs, step_size):   \n",
    "    scheduler = optim.lr_scheduler.StepLR(optimizer, step_size=step_size, gamma=0.5)\n",
    "    loss_history = []\n",
    "    train_history = []\n",
    "    val_history = []\n",
    "    for epoch in range(num_epochs):\n",
    "        model.train() # Enter train mode\n",
    "        scheduler.step()\n",
    "        loss_accum = 0\n",
    "        correct_samples = 0\n",
    "        total_samples = 0\n",
    "        for i_step, (x, y) in enumerate(train_loader):\n",
    "          \n",
    "            x_gpu = x.to(device)\n",
    "            y_gpu = y.to(device)\n",
    "            prediction = model(x_gpu)    \n",
    "            loss_value = loss(prediction, y_gpu)\n",
    "            optimizer.zero_grad()\n",
    "            loss_value.backward()\n",
    "            optimizer.step()\n",
    "            \n",
    "            _, indices = torch.max(prediction, 1)\n",
    "            correct_samples += torch.sum(indices == y_gpu)\n",
    "            total_samples += y.shape[0]\n",
    "            \n",
    "            loss_accum += loss_value\n",
    "\n",
    "        ave_loss = loss_accum / i_step\n",
    "        train_accuracy = float(correct_samples) / total_samples\n",
    "        val_accuracy = compute_accuracy(model, val_loader)\n",
    "        \n",
    "        loss_history.append(float(ave_loss))\n",
    "        train_history.append(train_accuracy)\n",
    "        val_history.append(val_accuracy)\n",
    "        \n",
    "        print(\"Average loss: %f, Train accuracy: %f, Val accuracy: %f\" % (ave_loss, train_accuracy, val_accuracy))\n",
    "        \n",
    "    return loss_history, train_history, val_history"
   ]
  },
  {
   "cell_type": "code",
   "execution_count": 0,
   "metadata": {
    "colab": {
     "base_uri": "https://localhost:8080/",
     "height": 1941
    },
    "colab_type": "code",
    "id": "i6mhfdQ9K-N3",
    "outputId": "931b0247-b275-45fe-a1d8-08c143ce11bc"
   },
   "outputs": [
    {
     "name": "stdout",
     "output_type": "stream",
     "text": [
      "lr=0.1, anneal_epochs=20, reg=0.001\n"
     ]
    },
    {
     "name": "stderr",
     "output_type": "stream",
     "text": [
      "/usr/local/lib/python3.6/dist-packages/torch/nn/modules/container.py:92: UserWarning: Implicit dimension choice for softmax has been deprecated. Change the call to include dim=X as an argument.\n",
      "  input = module(input)\n"
     ]
    },
    {
     "name": "stdout",
     "output_type": "stream",
     "text": [
      "Average loss: 2.039006, Train accuracy: 0.420981, Val accuracy: 0.434987\n",
      "Average loss: 2.036035, Train accuracy: 0.423557, Val accuracy: 0.429254\n",
      "Average loss: 2.033244, Train accuracy: 0.426373, Val accuracy: 0.448092\n",
      "Average loss: 2.017901, Train accuracy: 0.442890, Val accuracy: 0.483585\n",
      "Average loss: 1.988496, Train accuracy: 0.475190, Val accuracy: 0.498737\n",
      "Average loss: 1.967690, Train accuracy: 0.495837, Val accuracy: 0.532319\n",
      "Average loss: 1.953245, Train accuracy: 0.510050, Val accuracy: 0.515869\n",
      "Average loss: 1.946905, Train accuracy: 0.517473, Val accuracy: 0.511364\n",
      "Average loss: 1.940276, Train accuracy: 0.523479, Val accuracy: 0.530817\n",
      "Average loss: 1.928262, Train accuracy: 0.534877, Val accuracy: 0.582281\n",
      "lr=0.01, anneal_epochs=10, reg=1e-07\n",
      "Average loss: 1.881694, Train accuracy: 0.585077, Val accuracy: 0.601392\n",
      "Average loss: 1.871475, Train accuracy: 0.594154, Val accuracy: 0.603167\n",
      "Average loss: 1.868253, Train accuracy: 0.597021, Val accuracy: 0.608969\n",
      "Average loss: 1.863642, Train accuracy: 0.601287, Val accuracy: 0.605010\n",
      "Average loss: 1.860594, Train accuracy: 0.604034, Val accuracy: 0.614634\n",
      "Average loss: 1.858734, Train accuracy: 0.606030, Val accuracy: 0.617023\n",
      "Average loss: 1.855270, Train accuracy: 0.610108, Val accuracy: 0.617978\n",
      "Average loss: 1.853677, Train accuracy: 0.611320, Val accuracy: 0.617842\n",
      "Average loss: 1.852621, Train accuracy: 0.611183, Val accuracy: 0.620299\n",
      "Average loss: 1.851372, Train accuracy: 0.612958, Val accuracy: 0.617364\n",
      "lr=0.001, anneal_epochs=15, reg=0.001\n",
      "Average loss: 1.848420, Train accuracy: 0.616353, Val accuracy: 0.622620\n",
      "Average loss: 1.847173, Train accuracy: 0.617804, Val accuracy: 0.622210\n",
      "Average loss: 1.847710, Train accuracy: 0.617292, Val accuracy: 0.623029\n",
      "Average loss: 1.846594, Train accuracy: 0.618111, Val accuracy: 0.622688\n",
      "Average loss: 1.847419, Train accuracy: 0.616882, Val accuracy: 0.622824\n",
      "Average loss: 1.846954, Train accuracy: 0.618298, Val accuracy: 0.622005\n",
      "Average loss: 1.847672, Train accuracy: 0.616729, Val accuracy: 0.623575\n",
      "Average loss: 1.846944, Train accuracy: 0.617275, Val accuracy: 0.622074\n",
      "Average loss: 1.845939, Train accuracy: 0.618759, Val accuracy: 0.622074\n",
      "Average loss: 1.846560, Train accuracy: 0.618162, Val accuracy: 0.622756\n",
      "lr=0.001, anneal_epochs=15, reg=1e-05\n",
      "Average loss: 1.846189, Train accuracy: 0.618657, Val accuracy: 0.623097\n",
      "Average loss: 1.845060, Train accuracy: 0.619117, Val accuracy: 0.622551\n",
      "Average loss: 1.845569, Train accuracy: 0.618930, Val accuracy: 0.623029\n",
      "Average loss: 1.844313, Train accuracy: 0.620346, Val accuracy: 0.624531\n",
      "Average loss: 1.845567, Train accuracy: 0.618691, Val accuracy: 0.624394\n",
      "Average loss: 1.844135, Train accuracy: 0.621148, Val accuracy: 0.623985\n",
      "Average loss: 1.843786, Train accuracy: 0.621097, Val accuracy: 0.625759\n",
      "Average loss: 1.844635, Train accuracy: 0.620551, Val accuracy: 0.624394\n",
      "Average loss: 1.843917, Train accuracy: 0.620994, Val accuracy: 0.626920\n",
      "Average loss: 1.844302, Train accuracy: 0.620448, Val accuracy: 0.626305\n",
      "lr=0.0001, anneal_epochs=20, reg=1e-07\n",
      "Average loss: 1.845788, Train accuracy: 0.618981, Val accuracy: 0.626237\n",
      "Average loss: 1.843034, Train accuracy: 0.621745, Val accuracy: 0.626442\n",
      "Average loss: 1.843086, Train accuracy: 0.621080, Val accuracy: 0.626101\n",
      "Average loss: 1.843864, Train accuracy: 0.620841, Val accuracy: 0.626169\n",
      "Average loss: 1.844972, Train accuracy: 0.619885, Val accuracy: 0.625964\n",
      "Average loss: 1.843871, Train accuracy: 0.620875, Val accuracy: 0.625896\n",
      "Average loss: 1.844084, Train accuracy: 0.619612, Val accuracy: 0.625623\n",
      "Average loss: 1.843889, Train accuracy: 0.620568, Val accuracy: 0.625828\n",
      "Average loss: 1.843933, Train accuracy: 0.620261, Val accuracy: 0.625282\n",
      "Average loss: 1.843371, Train accuracy: 0.620977, Val accuracy: 0.625213\n",
      "lr=0.1, anneal_epochs=15, reg=0.001\n",
      "Average loss: 1.885183, Train accuracy: 0.578934, Val accuracy: 0.585080\n",
      "Average loss: 1.883093, Train accuracy: 0.580674, Val accuracy: 0.595522\n",
      "Average loss: 1.878918, Train accuracy: 0.585913, Val accuracy: 0.604464\n",
      "Average loss: 1.875808, Train accuracy: 0.588336, Val accuracy: 0.611426\n",
      "Average loss: 1.873062, Train accuracy: 0.591782, Val accuracy: 0.547881\n",
      "Average loss: 1.873392, Train accuracy: 0.590605, Val accuracy: 0.614429\n",
      "Average loss: 1.868513, Train accuracy: 0.595946, Val accuracy: 0.614224\n",
      "Average loss: 1.869634, Train accuracy: 0.596031, Val accuracy: 0.601256\n",
      "Average loss: 1.867562, Train accuracy: 0.596867, Val accuracy: 0.601938\n",
      "Average loss: 1.867543, Train accuracy: 0.597754, Val accuracy: 0.606921\n",
      "lr=0.0001, anneal_epochs=15, reg=1e-05\n",
      "Average loss: 1.863092, Train accuracy: 0.602600, Val accuracy: 0.610334\n",
      "Average loss: 1.859658, Train accuracy: 0.606013, Val accuracy: 0.613132\n",
      "Average loss: 1.857121, Train accuracy: 0.609630, Val accuracy: 0.615453\n",
      "Average loss: 1.854355, Train accuracy: 0.611610, Val accuracy: 0.617227\n",
      "Average loss: 1.854264, Train accuracy: 0.612514, Val accuracy: 0.618456\n",
      "Average loss: 1.852626, Train accuracy: 0.613231, Val accuracy: 0.619958\n",
      "Average loss: 1.852197, Train accuracy: 0.614613, Val accuracy: 0.620299\n",
      "Average loss: 1.851050, Train accuracy: 0.615159, Val accuracy: 0.621255\n",
      "Average loss: 1.852499, Train accuracy: 0.614255, Val accuracy: 0.621937\n",
      "Average loss: 1.851066, Train accuracy: 0.616490, Val accuracy: 0.622278\n",
      "lr=0.001, anneal_epochs=10, reg=1e-05\n",
      "Average loss: 1.848500, Train accuracy: 0.617633, Val accuracy: 0.626101\n",
      "Average loss: 1.846356, Train accuracy: 0.620022, Val accuracy: 0.628899\n",
      "Average loss: 1.845158, Train accuracy: 0.620892, Val accuracy: 0.629786\n",
      "Average loss: 1.842936, Train accuracy: 0.623486, Val accuracy: 0.630674\n",
      "Average loss: 1.842796, Train accuracy: 0.623161, Val accuracy: 0.631220\n",
      "Average loss: 1.839738, Train accuracy: 0.626472, Val accuracy: 0.631288\n",
      "Average loss: 1.839336, Train accuracy: 0.626967, Val accuracy: 0.632721\n",
      "Average loss: 1.838207, Train accuracy: 0.627854, Val accuracy: 0.632721\n",
      "Average loss: 1.839036, Train accuracy: 0.627751, Val accuracy: 0.632994\n",
      "Average loss: 1.838516, Train accuracy: 0.628007, Val accuracy: 0.632858\n",
      "lr=0.001, anneal_epochs=5, reg=1e-05\n",
      "Average loss: 1.838164, Train accuracy: 0.627495, Val accuracy: 0.633063\n",
      "Average loss: 1.837999, Train accuracy: 0.627018, Val accuracy: 0.632994\n",
      "Average loss: 1.836498, Train accuracy: 0.629884, Val accuracy: 0.632994\n",
      "Average loss: 1.837142, Train accuracy: 0.628417, Val accuracy: 0.633950\n",
      "Average loss: 1.836850, Train accuracy: 0.628434, Val accuracy: 0.634769\n",
      "Average loss: 1.834828, Train accuracy: 0.630328, Val accuracy: 0.634359\n",
      "Average loss: 1.835802, Train accuracy: 0.629816, Val accuracy: 0.633882\n",
      "Average loss: 1.835892, Train accuracy: 0.629509, Val accuracy: 0.634974\n",
      "Average loss: 1.834798, Train accuracy: 0.630157, Val accuracy: 0.635110\n",
      "Average loss: 1.834043, Train accuracy: 0.631915, Val accuracy: 0.635042\n",
      "lr=0.01, anneal_epochs=5, reg=0.001\n",
      "Average loss: 1.837417, Train accuracy: 0.627700, Val accuracy: 0.636612\n",
      "Average loss: 1.835288, Train accuracy: 0.630072, Val accuracy: 0.634564\n",
      "Average loss: 1.833871, Train accuracy: 0.632376, Val accuracy: 0.637909\n",
      "Average loss: 1.833107, Train accuracy: 0.633229, Val accuracy: 0.642345\n",
      "Average loss: 1.831315, Train accuracy: 0.635020, Val accuracy: 0.636202\n",
      "Average loss: 1.831249, Train accuracy: 0.634833, Val accuracy: 0.636680\n",
      "Average loss: 1.829856, Train accuracy: 0.636658, Val accuracy: 0.640844\n",
      "Average loss: 1.830301, Train accuracy: 0.635600, Val accuracy: 0.636271\n",
      "Average loss: 1.829225, Train accuracy: 0.637972, Val accuracy: 0.642072\n",
      "Average loss: 1.829425, Train accuracy: 0.636317, Val accuracy: 0.638591\n"
     ]
    }
   ],
   "source": [
    "# The key hyperparameters we're going to tune are learning speed, annealing rate and regularization\n",
    "# We also encourage you to try different optimizers as well\n",
    "\n",
    "Hyperparams = namedtuple(\"Hyperparams\", ['learning_rate', 'anneal_epochs', 'reg'])\n",
    "RunResult = namedtuple(\"RunResult\", ['model', 'train_history', 'val_history', 'final_val_accuracy'])\n",
    "\n",
    "learning_rates = [1e0, 1e-1, 1e-2, 1e-3, 1e-4]\n",
    "anneal_coeff = 0.2\n",
    "anneal_epochs = [1, 5, 10, 15, 20, 50]\n",
    "reg = [1e-3, 1e-4, 1e-5, 1e-7]\n",
    "\n",
    "batch_size = 64\n",
    "epoch_num = 10\n",
    "\n",
    "# Record all the runs here\n",
    "# Key should be Hyperparams and values should be RunResult\n",
    "run_record = {} \n",
    "\n",
    "# Use grid search or random search and record all runs in run_record dictionnary \n",
    "# Important: perform search in logarithmic space!\n",
    "\n",
    "# TODO: Your code here!\n",
    "\n",
    "import random\n",
    "params_grid = [learning_rates, anneal_epochs, reg]\n",
    "\n",
    "n_results = 10\n",
    "for i in range(n_results):\n",
    "    params = [random.sample(param, 1)[0] for param in params_grid]\n",
    "    print(f\"lr={params[0]}, anneal_epochs={params[1]}, reg={params[2]}\")\n",
    "    \n",
    "    optimizer = optim.SGD(lenet_model.parameters(), lr=params[0], weight_decay=params[2])\n",
    "    _, train_history, val_history = train_model(lenet_model, train_aug_loader, val_loader, loss, optimizer, epoch_num, params[1])\n",
    "    run_record[Hyperparams(*params)] = RunResult(lenet_model, train_history, val_history, val_history[-1])"
   ]
  },
  {
   "cell_type": "code",
   "execution_count": 0,
   "metadata": {
    "colab": {
     "base_uri": "https://localhost:8080/",
     "height": 34
    },
    "colab_type": "code",
    "id": "Y6xExdw8JB1l",
    "outputId": "ddd61d03-a3f1-4197-8248-62d3a89e76cc"
   },
   "outputs": [
    {
     "name": "stdout",
     "output_type": "stream",
     "text": [
      "Best validation accuracy: 0.64, best hyperparams: Hyperparams(learning_rate=0.01, anneal_epochs=5, reg=0.001)\n"
     ]
    }
   ],
   "source": [
    "best_val_accuracy = None\n",
    "best_hyperparams = None\n",
    "best_run = None\n",
    "\n",
    "for hyperparams, run_result in run_record.items():\n",
    "    if best_val_accuracy is None or best_val_accuracy < run_result.final_val_accuracy:\n",
    "        best_val_accuracy = run_result.final_val_accuracy\n",
    "        best_hyperparams = hyperparams\n",
    "        best_run = run_result\n",
    "        \n",
    "print(\"Best validation accuracy: %4.2f, best hyperparams: %s\" % (best_val_accuracy, best_hyperparams))\n",
    "        "
   ]
  },
  {
   "cell_type": "markdown",
   "metadata": {
    "colab_type": "text",
    "id": "LOmsR0uVgtgf"
   },
   "source": [
    "# Свободное упражнение - догоним и перегоним LeNet!\n",
    "\n",
    "Попробуйте найти архитектуру и настройки тренировки, чтобы выступить лучше наших бейзлайнов.\n",
    "\n",
    "Что можно и нужно попробовать:\n",
    "- BatchNormalization (для convolution layers он в PyTorch называется [batchnorm2d](https://pytorch.org/docs/stable/nn.html#batchnorm2d))\n",
    "- Изменить количество слоев и их толщину\n",
    "- Изменять количество эпох тренировки\n",
    "- Попробовать и другие агментации"
   ]
  },
  {
   "cell_type": "code",
   "execution_count": 32,
   "metadata": {
    "colab": {
     "base_uri": "https://localhost:8080/",
     "height": 357
    },
    "colab_type": "code",
    "id": "tSVhD747icoc",
    "outputId": "175092c0-7cfc-43ef-c5b6-ab660856c6a6"
   },
   "outputs": [
    {
     "name": "stdout",
     "output_type": "stream",
     "text": [
      "Average loss: 2.005048, Train accuracy: 0.275637, Val accuracy: 0.516415\n",
      "Average loss: 1.323975, Train accuracy: 0.532915, Val accuracy: 0.653266\n",
      "Average loss: 1.078410, Train accuracy: 0.626745, Val accuracy: 0.722067\n",
      "Average loss: 0.964541, Train accuracy: 0.667184, Val accuracy: 0.724592\n",
      "Average loss: 0.905834, Train accuracy: 0.687455, Val accuracy: 0.765067\n",
      "Average loss: 0.835053, Train accuracy: 0.711582, Val accuracy: 0.780288\n",
      "Average loss: 0.802665, Train accuracy: 0.722793, Val accuracy: 0.775578\n",
      "Average loss: 0.775327, Train accuracy: 0.733628, Val accuracy: 0.785271\n",
      "Average loss: 0.760945, Train accuracy: 0.735198, Val accuracy: 0.786636\n",
      "Average loss: 0.746417, Train accuracy: 0.740880, Val accuracy: 0.795714\n",
      "Average loss: 0.718259, Train accuracy: 0.749480, Val accuracy: 0.803290\n",
      "Average loss: 0.705365, Train accuracy: 0.755042, Val accuracy: 0.810730\n",
      "Average loss: 0.696179, Train accuracy: 0.758881, Val accuracy: 0.813801\n",
      "Average loss: 0.690084, Train accuracy: 0.761253, Val accuracy: 0.811412\n",
      "Average loss: 0.681553, Train accuracy: 0.763420, Val accuracy: 0.813869\n",
      "Average loss: 0.671050, Train accuracy: 0.765536, Val accuracy: 0.817623\n",
      "Average loss: 0.663857, Train accuracy: 0.769085, Val accuracy: 0.815371\n",
      "Average loss: 0.660472, Train accuracy: 0.770450, Val accuracy: 0.815303\n",
      "Average loss: 0.654462, Train accuracy: 0.772156, Val accuracy: 0.821309\n",
      "Average loss: 0.653133, Train accuracy: 0.773197, Val accuracy: 0.820695\n"
     ]
    }
   ],
   "source": [
    "best_model = nn.Sequential(\n",
    "            nn.Conv2d(3, 32, 3, padding=1),\n",
    "            nn.BatchNorm2d(32),\n",
    "            nn.ReLU(inplace=True),\n",
    "            nn.Dropout(0.25),\n",
    "            nn.Conv2d(32, 64, 3, stride=2, padding=1),\n",
    "            nn.BatchNorm2d(64),\n",
    "            nn.ReLU(inplace=True),\n",
    "            nn.Dropout(0.25),\n",
    "            nn.Conv2d(64, 128, 5, stride=2),\n",
    "            nn.BatchNorm2d(128),\n",
    "            nn.ReLU(inplace=True),\n",
    "            nn.Dropout(0.25),\n",
    "            nn.Conv2d(128, 128, 5, stride=2, padding=2),\n",
    "            nn.BatchNorm2d(128),\n",
    "            nn.ReLU(inplace=True),\n",
    "            nn.Dropout(0.25),\n",
    "            nn.Conv2d(128, 128, 5, stride=2, padding=2),\n",
    "            nn.BatchNorm2d(128),\n",
    "            nn.ReLU(inplace=True),\n",
    "            Flattener(),\n",
    "            nn.Linear(512, 64),\n",
    "            nn.BatchNorm1d(64),\n",
    "            nn.ReLU(inplace=True),\n",
    "            nn.Dropout(0.25),\n",
    "            nn.Linear(64, 10)\n",
    "          )\n",
    "\n",
    "for module in best_model.parameters():\n",
    "    if isinstance(module, (nn.Conv2d, nn.Linear)):\n",
    "        nn.init.xavier_uniform_(module.weight, gain=nn.init.calculate_gain('relu'))\n",
    "\n",
    "    \n",
    "best_model.type(torch.cuda.FloatTensor)\n",
    "best_model.to(device)\n",
    "\n",
    "loss = nn.CrossEntropyLoss().type(torch.cuda.FloatTensor)\n",
    "optimizer = optim.Adam(best_model.parameters(), lr=1e-3, weight_decay=1e-6)\n",
    "loss_history, train_history, val_history = train_model(best_model, train_aug_loader, val_loader, loss, optimizer, 20, 5)"
   ]
  },
  {
   "cell_type": "markdown",
   "metadata": {
    "colab_type": "text",
    "id": "ubeKgBcnhx7N"
   },
   "source": [
    "# Финальный аккорд - проверим лучшую модель на test set\n",
    "\n",
    "В качестве разнообразия - напишите код для прогона модели на test set вы.\n",
    "\n",
    "В результате вы должны натренировать модель, которая покажет более **90%** точности на test set.  \n",
    "Как водится, лучший результат в группе получит дополнительные баллы!"
   ]
  },
  {
   "cell_type": "code",
   "execution_count": 33,
   "metadata": {
    "colab": {
     "base_uri": "https://localhost:8080/",
     "height": 34
    },
    "colab_type": "code",
    "id": "EIqM1kdeh-hd",
    "outputId": "3c54a4db-cad3-45d6-f745-b10ada48e119"
   },
   "outputs": [
    {
     "name": "stdout",
     "output_type": "stream",
     "text": [
      "Final test accuracy -  0.8149200983405039\n"
     ]
    }
   ],
   "source": [
    "# TODO Write the code to compute accuracy on test set\n",
    "test_loader = torch.utils.data.DataLoader(data_test, batch_size=batch_size)\n",
    "final_test_accuracy = compute_accuracy(best_model, test_loader)\n",
    "print(\"Final test accuracy - \", final_test_accuracy)"
   ]
  },
  {
   "cell_type": "code",
   "execution_count": 0,
   "metadata": {
    "colab": {},
    "colab_type": "code",
    "id": "BfH6qip6kVX_"
   },
   "outputs": [],
   "source": []
  }
 ],
 "metadata": {
  "accelerator": "GPU",
  "colab": {
   "collapsed_sections": [],
   "name": "PyTorch_CNN.ipynb",
   "provenance": [],
   "version": "0.3.2"
  },
  "kernelspec": {
   "display_name": "Python 3",
   "language": "python",
   "name": "python3"
  },
  "language_info": {
   "codemirror_mode": {
    "name": "ipython",
    "version": 3
   },
   "file_extension": ".py",
   "mimetype": "text/x-python",
   "name": "python",
   "nbconvert_exporter": "python",
   "pygments_lexer": "ipython3",
   "version": "3.6.7"
  }
 },
 "nbformat": 4,
 "nbformat_minor": 1
}
