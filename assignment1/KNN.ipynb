{
  "nbformat": 4,
  "nbformat_minor": 0,
  "metadata": {
    "colab": {
      "name": "KNN.ipynb",
      "version": "0.3.2",
      "provenance": [],
      "collapsed_sections": []
    },
    "language_info": {
      "codemirror_mode": {
        "name": "ipython",
        "version": 3
      },
      "file_extension": ".py",
      "mimetype": "text/x-python",
      "name": "python",
      "nbconvert_exporter": "python",
      "pygments_lexer": "ipython3",
      "version": "3.6.7"
    },
    "kernelspec": {
      "display_name": "Python 3",
      "language": "python",
      "name": "python3"
    }
  },
  "cells": [
    {
      "cell_type": "markdown",
      "metadata": {
        "colab_type": "text",
        "id": "RXHbwD9OJjpK"
      },
      "source": [
        "# Задание 1.1 - Метод К-ближайших соседей (K-neariest neighbor classifier)\n",
        "\n",
        "В первом задании вы реализуете один из простейших алгоритмов машинного обучения - классификатор на основе метода K-ближайших соседей.\n",
        "Мы применим его к задачам\n",
        "- бинарной классификации (то есть, только двум классам)\n",
        "- многоклассовой классификации (то есть, нескольким классам)\n",
        "\n",
        "Так как методу необходим гиперпараметр (hyperparameter) - количество соседей, мы выберем его на основе кросс-валидации (cross-validation).\n",
        "\n",
        "Наша основная задача - научиться пользоваться numpy и представлять вычисления в векторном виде, а также ознакомиться с основными метриками, важными для задачи классификации.\n",
        "\n",
        "Перед выполнением задания:\n",
        "- запустите файл `download_data.sh`, чтобы скачать данные, которые мы будем использовать для тренировки\n",
        "- установите все необходимые библиотеки, запустив `pip install -r requirements.txt` (если раньше не работали с `pip`, вам сюда - https://pip.pypa.io/en/stable/quickstart/)\n",
        "\n",
        "Если вы раньше не работали с numpy, вам может помочь tutorial. Например этот:  \n",
        "http://cs231n.github.io/python-numpy-tutorial/"
      ]
    },
    {
      "cell_type": "code",
      "metadata": {
        "colab_type": "code",
        "id": "Jqz_9EbWJjpM",
        "colab": {}
      },
      "source": [
        "import numpy as np\n",
        "import matplotlib.pyplot as plt\n",
        "\n",
        "%matplotlib inline\n",
        "\n",
        "%load_ext autoreload\n",
        "%autoreload 2"
      ],
      "execution_count": 0,
      "outputs": []
    },
    {
      "cell_type": "code",
      "metadata": {
        "colab_type": "code",
        "id": "V2WOPxhBMw9Z",
        "outputId": "8d84a8d2-34d1-4e6d-9dfb-a11c0a24bd01",
        "colab": {
          "base_uri": "https://localhost:8080/",
          "height": 34
        }
      },
      "source": [
        "from google.colab import drive\n",
        "drive.mount('/content/gdrive')"
      ],
      "execution_count": 2,
      "outputs": [
        {
          "output_type": "stream",
          "text": [
            "Drive already mounted at /content/gdrive; to attempt to forcibly remount, call drive.mount(\"/content/gdrive\", force_remount=True).\n"
          ],
          "name": "stdout"
        }
      ]
    },
    {
      "cell_type": "code",
      "metadata": {
        "colab_type": "code",
        "id": "uxg_C1OwO8Tk",
        "colab": {}
      },
      "source": [
        "import sys\n",
        "sys.path.append('/content/gdrive/My Drive/DL_CSC/assignment1/')"
      ],
      "execution_count": 0,
      "outputs": []
    },
    {
      "cell_type": "code",
      "metadata": {
        "colab_type": "code",
        "id": "LYW6cHKpJjpQ",
        "colab": {}
      },
      "source": [
        "from dataset import load_svhn\n",
        "from knn import KNN\n",
        "from metrics import binary_classification_metrics, multiclass_accuracy"
      ],
      "execution_count": 0,
      "outputs": []
    },
    {
      "cell_type": "markdown",
      "metadata": {
        "colab_type": "text",
        "id": "HO5DGD0-JjpU"
      },
      "source": [
        "# Загрузим и визуализируем данные\n",
        "\n",
        "В задании уже дана функция `load_svhn`, загружающая данные с диска. Она возвращает данные для тренировки и для тестирования как numpy arrays.\n",
        "\n",
        "Мы будем использовать цифры из датасета Street View House Numbers (SVHN, http://ufldl.stanford.edu/housenumbers/), чтобы решать задачу хоть сколько-нибудь сложнее MNIST."
      ]
    },
    {
      "cell_type": "code",
      "metadata": {
        "colab_type": "code",
        "id": "LXjUh_b0JjpV",
        "colab": {}
      },
      "source": [
        "train_X, train_y, test_X, test_y = load_svhn(\"/content/gdrive/My Drive/DL_CSC/assignment1/data\", max_train=1000, max_test=100)"
      ],
      "execution_count": 0,
      "outputs": []
    },
    {
      "cell_type": "code",
      "metadata": {
        "colab_type": "code",
        "id": "wafgEoRXJjpZ",
        "outputId": "59574d2e-48af-4630-9e9f-97595ff40a88",
        "colab": {
          "base_uri": "https://localhost:8080/",
          "height": 260
        }
      },
      "source": [
        "samples_per_class = 5  # Number of samples per class to visualize\n",
        "plot_index = 1\n",
        "for example_index in range(samples_per_class):\n",
        "    for class_index in range(10):\n",
        "        plt.subplot(5, 10, plot_index)\n",
        "        image = train_X[train_y == class_index][example_index]\n",
        "        plt.imshow(image.astype(np.uint8))\n",
        "        plt.axis('off')\n",
        "        plot_index += 1"
      ],
      "execution_count": 6,
      "outputs": [
        {
          "output_type": "display_data",
          "data": {
            "image/png": "[encoded data removed]",
            "text/plain": [
              "<Figure size 432x288 with 50 Axes>"
            ]
          },
          "metadata": {
            "tags": []
          }
        }
      ]
    },
    {
      "cell_type": "markdown",
      "metadata": {
        "colab_type": "text",
        "id": "piqOPCGsJjpi"
      },
      "source": [
        "# Сначала реализуем KNN для бинарной классификации\n",
        "\n",
        "В качестве задачи бинарной классификации мы натренируем модель, которая будет отличать цифру 0 от цифры 9."
      ]
    },
    {
      "cell_type": "code",
      "metadata": {
        "colab_type": "code",
        "id": "YOIAnW1PJjpk",
        "colab": {}
      },
      "source": [
        "# First, let's prepare the labels and the source data\n",
        "\n",
        "# Only select 0s and 9s\n",
        "binary_train_mask = (train_y == 0) | (train_y == 9)\n",
        "binary_train_X = train_X[binary_train_mask]\n",
        "binary_train_y = train_y[binary_train_mask] == 0\n",
        "\n",
        "binary_test_mask = (test_y == 0) | (test_y == 9)\n",
        "binary_test_X = test_X[binary_test_mask]\n",
        "binary_test_y = test_y[binary_test_mask] == 0\n",
        "\n",
        "# Reshape to 1-dimensional array [num_samples, 32*32*3]\n",
        "binary_train_X = binary_train_X.reshape(binary_train_X.shape[0], -1)\n",
        "binary_test_X = binary_test_X.reshape(binary_test_X.shape[0], -1)"
      ],
      "execution_count": 0,
      "outputs": []
    },
    {
      "cell_type": "code",
      "metadata": {
        "colab_type": "code",
        "id": "SNINNAnpJjpn",
        "colab": {}
      },
      "source": [
        "# Create the classifier and call fit to train the model\n",
        "# KNN just remembers all the data\n",
        "knn_classifier = KNN(k=1)\n",
        "knn_classifier.fit(binary_train_X, binary_train_y)"
      ],
      "execution_count": 0,
      "outputs": []
    },
    {
      "cell_type": "markdown",
      "metadata": {
        "colab_type": "text",
        "id": "nxGl8eHkJjpq"
      },
      "source": [
        "## Пришло время написать код! \n",
        "\n",
        "Последовательно реализуйте функции `compute_distances_two_loops`, `compute_distances_one_loop` и `compute_distances_no_loops`\n",
        "в файле `knn.py`.\n",
        "\n",
        "Эти функции строят массив расстояний между всеми векторами в тестовом наборе и в тренировочном наборе.  \n",
        "В результате они должны построить массив размера `(num_test, num_train)`, где координата `[i][j]` соотвествует расстоянию между i-м вектором в test (`test[i]`) и j-м вектором в train (`train[j]`).\n",
        "\n",
        "**Обратите внимание** Для простоты реализации мы будем использовать в качестве расстояния меру L1 (ее еще называют [Manhattan distance](https://ru.wikipedia.org/wiki/%D0%A0%D0%B0%D1%81%D1%81%D1%82%D0%BE%D1%8F%D0%BD%D0%B8%D0%B5_%D0%B3%D0%BE%D1%80%D0%BE%D0%B4%D1%81%D0%BA%D0%B8%D1%85_%D0%BA%D0%B2%D0%B0%D1%80%D1%82%D0%B0%D0%BB%D0%BE%D0%B2)).\n",
        "\n",
        "![image.png](attachment:image.png)"
      ]
    },
    {
      "cell_type": "code",
      "metadata": {
        "colab_type": "code",
        "id": "m7GmRiKvJjpr",
        "colab": {}
      },
      "source": [
        "# TODO: implement compute_distances_two_loops in knn.py\n",
        "dists = knn_classifier.compute_distances_two_loops(binary_test_X)\n",
        "assert np.isclose(dists[0, 10], np.sum(np.abs(binary_test_X[0] - binary_train_X[10])))"
      ],
      "execution_count": 0,
      "outputs": []
    },
    {
      "cell_type": "code",
      "metadata": {
        "colab_type": "code",
        "id": "ewwJrJCaJjpv",
        "colab": {}
      },
      "source": [
        "# TODO: implement compute_distances_one_loop in knn.py\n",
        "dists = knn_classifier.compute_distances_one_loop(binary_test_X)\n",
        "assert np.isclose(dists[0, 10], np.sum(np.abs(binary_test_X[0] - binary_train_X[10])))"
      ],
      "execution_count": 0,
      "outputs": []
    },
    {
      "cell_type": "code",
      "metadata": {
        "colab_type": "code",
        "id": "t9Xusy2uJjpy",
        "colab": {}
      },
      "source": [
        "# TODO: implement compute_distances_no_loops in knn.py\n",
        "dists = knn_classifier.compute_distances_no_loops(binary_test_X)\n",
        "assert np.isclose(dists[0, 10], np.sum(np.abs(binary_test_X[0] - binary_train_X[10])))"
      ],
      "execution_count": 0,
      "outputs": []
    },
    {
      "cell_type": "code",
      "metadata": {
        "colab_type": "code",
        "id": "37TSWTWJJjp1",
        "outputId": "d5cb2f6e-a3cd-4b96-cebb-88faee2f416b",
        "colab": {
          "base_uri": "https://localhost:8080/",
          "height": 68
        }
      },
      "source": [
        "# Lets look at the performance difference\n",
        "%timeit knn_classifier.compute_distances_two_loops(binary_test_X)\n",
        "%timeit knn_classifier.compute_distances_one_loop(binary_test_X)\n",
        "%timeit knn_classifier.compute_distances_no_loops(binary_test_X)"
      ],
      "execution_count": 12,
      "outputs": [
        {
          "output_type": "stream",
          "text": [
            "100 loops, best of 3: 10.8 ms per loop\n",
            "100 loops, best of 3: 18.9 ms per loop\n",
            "100 loops, best of 3: 16 ms per loop\n"
          ],
          "name": "stdout"
        }
      ]
    },
    {
      "cell_type": "code",
      "metadata": {
        "colab_type": "code",
        "id": "qf_vMKQdJjp5",
        "colab": {}
      },
      "source": [
        "# TODO: implement predict_labels_binary in knn.py\n",
        "prediction = knn_classifier.predict(binary_test_X)"
      ],
      "execution_count": 0,
      "outputs": []
    },
    {
      "cell_type": "code",
      "metadata": {
        "colab_type": "code",
        "id": "dR8FP0JZJjp8",
        "outputId": "39610c81-23b1-4777-cd0b-a473cd321d56",
        "colab": {
          "base_uri": "https://localhost:8080/",
          "height": 51
        }
      },
      "source": [
        "# TODO: implement binary_classification_metrics in metrics.py\n",
        "precision, recall, f1, accuracy = binary_classification_metrics(prediction, binary_test_y)\n",
        "print(\"KNN with k = %s\" % knn_classifier.k)\n",
        "print(\"Accuracy: %4.2f, Precision: %4.2f, Recall: %4.2f, F1: %4.2f\" % (accuracy, precision, recall, f1)) "
      ],
      "execution_count": 14,
      "outputs": [
        {
          "output_type": "stream",
          "text": [
            "KNN with k = 1\n",
            "Accuracy: 0.54, Precision: 0.20, Recall: 0.33, F1: 0.25\n"
          ],
          "name": "stdout"
        }
      ]
    },
    {
      "cell_type": "code",
      "metadata": {
        "colab_type": "code",
        "id": "3Ijb6ts7JjqA",
        "outputId": "132aedfa-e418-4ed1-b23d-a9563f6c2a0a",
        "colab": {
          "base_uri": "https://localhost:8080/",
          "height": 51
        }
      },
      "source": [
        "# Let's put everything together and run KNN with k=3 and see how we do\n",
        "knn_classifier_3 = KNN(k=3)\n",
        "knn_classifier_3.fit(binary_train_X, binary_train_y)\n",
        "prediction = knn_classifier_3.predict(binary_test_X)\n",
        "\n",
        "precision, recall, f1, accuracy = binary_classification_metrics(prediction, binary_test_y)\n",
        "print(\"KNN with k = %s\" % knn_classifier_3.k)\n",
        "print(\"Accuracy: %4.2f, Precision: %4.2f, Recall: %4.2f, F1: %4.2f\" % (accuracy, precision, recall, f1)) "
      ],
      "execution_count": 15,
      "outputs": [
        {
          "output_type": "stream",
          "text": [
            "KNN with k = 3\n",
            "Accuracy: 0.54, Precision: 0.29, Recall: 0.67, F1: 0.40\n"
          ],
          "name": "stdout"
        }
      ]
    },
    {
      "cell_type": "markdown",
      "metadata": {
        "colab_type": "text",
        "id": "pn9QcdyCJjqF"
      },
      "source": [
        "# Кросс-валидация (cross-validation)\n",
        "\n",
        "Попробуем найти лучшее значение k! \n",
        "\n",
        "Для этого мы воспользуемся k-fold cross-validation (https://en.wikipedia.org/wiki/Cross-validation_(statistics)#k-fold_cross-validation). Мы разделим тренировочные данные на 5 фолдов (folds), и по очереди будем использовать каждый из них в качестве проверочных данных (validation data), а остальные -- в качестве тренировочных (training data).\n",
        "\n",
        "В качестве финальной оценки эффективности k мы усредним значения F1 score на всех фолдах.\n",
        "После этого мы просто выберем значение k с лучшим значением метрики.\n",
        "\n",
        "*Бонус*: есть ли другие варианты агрегировать F1 score по всем фолдам? Напишите плюсы и минусы в клетке ниже."
      ]
    },
    {
      "cell_type": "code",
      "metadata": {
        "colab_type": "code",
        "id": "C-djrLCrJjqG",
        "outputId": "53eba199-1f30-4de4-df19-bf32b8c84bb3",
        "colab": {
          "base_uri": "https://localhost:8080/",
          "height": 187
        }
      },
      "source": [
        "# Find the best k using cross-validation based on F1 score\n",
        "num_folds = 5\n",
        "train_folds_X = []\n",
        "train_folds_y = []\n",
        "\n",
        "# TODO: split the training data in 5 folds and store them in train_folds_X/train_folds_y\n",
        "\n",
        "train_folds_X = np.array(np.array_split(binary_train_X, num_folds))\n",
        "train_folds_y = np.array(np.array_split(binary_train_y, num_folds))\n",
        "\n",
        "k_choices = [1, 2, 3, 5, 8, 10, 15, 20, 25, 50]\n",
        "k_to_f1 = {}  # dict mapping k values to mean F1 scores (int -> float)\n",
        "\n",
        "ind = np.arange(num_folds)\n",
        "for k in k_choices:\n",
        "    # TODO: perform cross-validation\n",
        "    # Go through every fold and use it for testing and all other folds for training\n",
        "    # Perform training and produce F1 score metric on the validation dataset\n",
        "    # Average F1 from all the folds and write it into k_to_f1\n",
        "\n",
        "    all_f1 = []\n",
        "    for i in ind:\n",
        "        knn_classifier = KNN(k)\n",
        "        knn_classifier.fit(train_folds_X[ind != i][0], train_folds_y[ind != i][0])\n",
        "        prediction = knn_classifier.predict(train_folds_X[i])\n",
        "        _, _, f1, _ = binary_classification_metrics(prediction, train_folds_y[i])\n",
        "        all_f1.append(f1)\n",
        "    k_to_f1[k] = sum(all_f1) / num_folds\n",
        "\n",
        "for k in sorted(k_to_f1):\n",
        "    print('k = %d, f1 = %f' % (k, k_to_f1[k]))"
      ],
      "execution_count": 16,
      "outputs": [
        {
          "output_type": "stream",
          "text": [
            "k = 1, f1 = 0.568883\n",
            "k = 2, f1 = 0.399673\n",
            "k = 3, f1 = 0.607376\n",
            "k = 5, f1 = 0.564434\n",
            "k = 8, f1 = 0.463921\n",
            "k = 10, f1 = 0.486580\n",
            "k = 15, f1 = 0.627591\n",
            "k = 20, f1 = 0.443212\n",
            "k = 25, f1 = 0.540635\n",
            "k = 50, f1 = 0.540635\n"
          ],
          "name": "stdout"
        }
      ]
    },
    {
      "cell_type": "markdown",
      "metadata": {
        "colab_type": "text",
        "id": "S0V8MqxEJjqM"
      },
      "source": [
        "### Проверим, как хорошо работает лучшее значение k на тестовых данных (test data)"
      ]
    },
    {
      "cell_type": "code",
      "metadata": {
        "colab_type": "code",
        "id": "9zQzOtfkJjqO",
        "outputId": "c62c7739-1be7-4504-968d-42bd8b63df84",
        "colab": {
          "base_uri": "https://localhost:8080/",
          "height": 51
        }
      },
      "source": [
        "# TODO Set the best k to the best value found by cross-validation\n",
        "best_k = 15\n",
        "\n",
        "best_knn_classifier = KNN(k=best_k)\n",
        "best_knn_classifier.fit(binary_train_X, binary_train_y)\n",
        "prediction = best_knn_classifier.predict(binary_test_X)\n",
        "\n",
        "precision, recall, f1, accuracy = binary_classification_metrics(prediction, binary_test_y)\n",
        "print(\"Best KNN with k = %s\" % best_k)\n",
        "print(\"Accuracy: %4.2f, Precision: %4.2f, Recall: %4.2f, F1: %4.2f\" % (accuracy, precision, recall, f1)) "
      ],
      "execution_count": 17,
      "outputs": [
        {
          "output_type": "stream",
          "text": [
            "Best KNN with k = 15\n",
            "Accuracy: 0.69, Precision: 0.43, Recall: 1.00, F1: 0.60\n"
          ],
          "name": "stdout"
        }
      ]
    },
    {
      "cell_type": "markdown",
      "metadata": {
        "colab_type": "text",
        "id": "IgX4jvZAJjqY"
      },
      "source": [
        "# Многоклассовая классификация (multi-class classification)\n",
        "\n",
        "Переходим к следующему этапу - классификации на каждую цифру."
      ]
    },
    {
      "cell_type": "code",
      "metadata": {
        "colab_type": "code",
        "id": "N23Dp2emJjqa",
        "colab": {}
      },
      "source": [
        "# Now let's use all 10 classes\n",
        "train_X = train_X.reshape(train_X.shape[0], -1)\n",
        "test_X = test_X.reshape(test_X.shape[0], -1)\n",
        "\n",
        "knn_classifier = KNN(k=1)\n",
        "knn_classifier.fit(train_X, train_y)"
      ],
      "execution_count": 0,
      "outputs": []
    },
    {
      "cell_type": "code",
      "metadata": {
        "colab_type": "code",
        "id": "S_KSRa4lJjqj",
        "colab": {}
      },
      "source": [
        "# TODO: Implement predict_labels_multiclass\n",
        "predict = knn_classifier.predict(test_X)"
      ],
      "execution_count": 0,
      "outputs": []
    },
    {
      "cell_type": "code",
      "metadata": {
        "colab_type": "code",
        "id": "Zv_qi6AIJjqm",
        "outputId": "9b5c2c69-7884-4ce1-fa6b-4dd985dad90e",
        "colab": {
          "base_uri": "https://localhost:8080/",
          "height": 34
        }
      },
      "source": [
        "# TODO: Implement multiclass_accuracy\n",
        "accuracy = multiclass_accuracy(predict, test_y)\n",
        "print(\"Accuracy: %4.2f\" % accuracy)"
      ],
      "execution_count": 20,
      "outputs": [
        {
          "output_type": "stream",
          "text": [
            "Accuracy: 0.15\n"
          ],
          "name": "stdout"
        }
      ]
    },
    {
      "cell_type": "markdown",
      "metadata": {
        "colab_type": "text",
        "id": "pi05snDdJjqq"
      },
      "source": [
        "Снова кросс-валидация. Теперь нашей основной метрикой стала точность (accuracy), и ее мы тоже будем усреднять по всем фолдам."
      ]
    },
    {
      "cell_type": "code",
      "metadata": {
        "colab_type": "code",
        "id": "lXtdujLWJjqq",
        "outputId": "1e6a31ad-ab6f-403a-c21a-76e19f856aa0",
        "colab": {
          "base_uri": "https://localhost:8080/",
          "height": 187
        }
      },
      "source": [
        "# Find the best k using cross-validation based on accuracy\n",
        "num_folds = 5\n",
        "train_folds_X = []\n",
        "train_folds_y = []\n",
        "\n",
        "# TODO: split the training data in 5 folds and store them in train_folds_X/train_folds_y\n",
        "\n",
        "train_folds_X = np.array(np.array_split(binary_train_X, num_folds))\n",
        "train_folds_y = np.array(np.array_split(binary_train_y, num_folds))\n",
        "\n",
        "k_choices = [1, 2, 3, 5, 8, 10, 15, 20, 25, 50]\n",
        "k_to_accuracy = {}\n",
        "\n",
        "for k in k_choices:\n",
        "    # TODO: perform cross-validation\n",
        "    # Go through every fold and use it for testing and all other folds for validation\n",
        "    # Perform training and produce accuracy metric on the validation dataset\n",
        "    # Average accuracy from all the folds and write it into k_to_accuracy\n",
        "\n",
        "    all_acc = []\n",
        "    for i in ind:\n",
        "        knn_classifier = KNN(k)\n",
        "        knn_classifier.fit(train_folds_X[ind != i][0], train_folds_y[ind != i][0])\n",
        "        prediction = knn_classifier.predict(train_folds_X[i])\n",
        "        acc = multiclass_accuracy(prediction, train_folds_y[i])\n",
        "        all_acc.append(acc)\n",
        "    k_to_accuracy[k] = sum(all_acc) / num_folds\n",
        "\n",
        "for k in sorted(k_to_accuracy):\n",
        "    print('k = %d, accuracy = %f' % (k, k_to_accuracy[k]))"
      ],
      "execution_count": 21,
      "outputs": [
        {
          "output_type": "stream",
          "text": [
            "k = 1, accuracy = 0.558333\n",
            "k = 2, accuracy = 0.541667\n",
            "k = 3, accuracy = 0.568116\n",
            "k = 5, accuracy = 0.501087\n",
            "k = 8, accuracy = 0.492029\n",
            "k = 10, accuracy = 0.482609\n",
            "k = 15, accuracy = 0.500725\n",
            "k = 20, accuracy = 0.441304\n",
            "k = 25, accuracy = 0.500725\n",
            "k = 50, accuracy = 0.500725\n"
          ],
          "name": "stdout"
        }
      ]
    },
    {
      "cell_type": "markdown",
      "metadata": {
        "colab_type": "text",
        "id": "KoCktNByJjqt"
      },
      "source": [
        "### Финальный тест - классификация на 10 классов на тестовой выборке (test data)\n",
        "\n",
        "Если все реализовано правильно, вы должны увидеть точность не менее **0.2**."
      ]
    },
    {
      "cell_type": "code",
      "metadata": {
        "colab_type": "code",
        "id": "EU2vVW6lJjqu",
        "outputId": "aa7ade43-fd65-468c-8c31-a44365b6a07e",
        "colab": {
          "base_uri": "https://localhost:8080/",
          "height": 34
        }
      },
      "source": [
        "best_k = 3\n",
        "\n",
        "best_knn_classifier = KNN(k=best_k)\n",
        "best_knn_classifier.fit(train_X, train_y)\n",
        "prediction = best_knn_classifier.predict(test_X)\n",
        "\n",
        "# Accuracy should be around 20%!\n",
        "accuracy = multiclass_accuracy(prediction, test_y)\n",
        "print(\"Accuracy: %4.2f\" % accuracy)"
      ],
      "execution_count": 23,
      "outputs": [
        {
          "output_type": "stream",
          "text": [
            "Accuracy: 0.27\n"
          ],
          "name": "stdout"
        }
      ]
    },
    {
      "cell_type": "code",
      "metadata": {
        "colab_type": "code",
        "id": "i8cNf1vVSJ2y",
        "colab": {}
      },
      "source": [
        ""
      ],
      "execution_count": 0,
      "outputs": []
    }
  ]
}